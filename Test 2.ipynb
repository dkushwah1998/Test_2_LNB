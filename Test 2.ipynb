{
 "cells": [
  {
   "cell_type": "markdown",
   "id": "a14a4de0",
   "metadata": {},
   "source": [
    "# ML and DL"
   ]
  },
  {
   "cell_type": "markdown",
   "id": "4d0d649e",
   "metadata": {},
   "source": [
    "1 "
   ]
  },
  {
   "cell_type": "code",
   "execution_count": 5,
   "id": "9a9e5a87",
   "metadata": {},
   "outputs": [],
   "source": [
    "import pandas as pd\n",
    "\n",
    "data = {\n",
    "    'Age': [25, 30, 35, 40, 45, 50, 55, 60, 65, 70],\n",
    "    'Income': [40000, 45000, 60000, 80000, 90000, 75000, 55000, 600000, 50000, 45000],\n",
    "    'Buy': [1, 0, 1, 1, 0, 1, 0, 0, 0, 1]  # 0 for no, 1 for yes\n",
    "}\n",
    "\n",
    "df = pd.DataFrame(data)\n"
   ]
  },
  {
   "cell_type": "code",
   "execution_count": 6,
   "id": "507a3fbb",
   "metadata": {},
   "outputs": [],
   "source": [
    "from sklearn.model_selection import train_test_split\n",
    "\n",
    "X = df[['Age', 'Income']]  # Features\n",
    "y = df['Buy']  # Target variable\n",
    "\n",
    "X_train, X_test, y_train, y_test = train_test_split(X, y, test_size=0.2, random_state=42)\n"
   ]
  },
  {
   "cell_type": "code",
   "execution_count": 7,
   "id": "8eebd72b",
   "metadata": {},
   "outputs": [
    {
     "data": {
      "text/plain": [
       "LogisticRegression()"
      ]
     },
     "execution_count": 7,
     "metadata": {},
     "output_type": "execute_result"
    }
   ],
   "source": [
    "from sklearn.linear_model import LogisticRegression\n",
    "\n",
    "# Create the model\n",
    "model = LogisticRegression()\n",
    "\n",
    "# Train the model on the training data\n",
    "model.fit(X_train, y_train)\n"
   ]
  },
  {
   "cell_type": "code",
   "execution_count": 8,
   "id": "a1653bf6",
   "metadata": {},
   "outputs": [],
   "source": [
    "y_pred = model.predict(X_test)\n"
   ]
  },
  {
   "cell_type": "code",
   "execution_count": 9,
   "id": "803be49b",
   "metadata": {},
   "outputs": [
    {
     "name": "stdout",
     "output_type": "stream",
     "text": [
      "Accuracy: 0.00\n",
      "Precision: 0.00\n",
      "Recall: 0.00\n",
      "F1 Score: 0.00\n"
     ]
    },
    {
     "name": "stderr",
     "output_type": "stream",
     "text": [
      "C:\\ProgramData\\Anaconda3\\lib\\site-packages\\sklearn\\metrics\\_classification.py:1318: UndefinedMetricWarning: Recall is ill-defined and being set to 0.0 due to no true samples. Use `zero_division` parameter to control this behavior.\n",
      "  _warn_prf(average, modifier, msg_start, len(result))\n"
     ]
    }
   ],
   "source": [
    "from sklearn.metrics import accuracy_score, precision_score, recall_score, f1_score\n",
    "\n",
    "accuracy = accuracy_score(y_test, y_pred)\n",
    "precision = precision_score(y_test, y_pred)\n",
    "recall = recall_score(y_test, y_pred)\n",
    "f1 = f1_score(y_test, y_pred)\n",
    "\n",
    "print(f'Accuracy: {accuracy:.2f}')\n",
    "print(f'Precision: {precision:.2f}')\n",
    "print(f'Recall: {recall:.2f}')\n",
    "print(f'F1 Score: {f1:.2f}')\n"
   ]
  },
  {
   "cell_type": "markdown",
   "id": "5600c9cd",
   "metadata": {},
   "source": [
    "# 2."
   ]
  },
  {
   "cell_type": "code",
   "execution_count": 10,
   "id": "eb994b4e",
   "metadata": {},
   "outputs": [],
   "source": [
    "import pandas as pd\n",
    "from sklearn.preprocessing import LabelEncoder\n",
    "from sklearn.model_selection import train_test_split\n",
    "from sklearn.ensemble import RandomForestClassifier\n",
    "from sklearn.metrics import accuracy_score\n",
    "\n",
    "# Create a DataFrame with weight, color, and fruit columns\n",
    "data = {\n",
    "    'weight': [120, 150, 130, 140, 180, 200, 160, 190, 170, 110],\n",
    "    'color(1=Red,2=Yellow,3=Orange)': [1,2,1,2,3,2,3,1,2,3],\n",
    "    'fruit': ['Apple', 'Banana', 'Apple', 'Banana', 'Orange', 'Banana', 'Orange', 'Apple','Banana','Apple']\n",
    "}\n",
    "\n",
    "df = pd.DataFrame(data)\n",
    "\n",
    "# Encode the fruit labels as numerical values\n",
    "label_encoder = LabelEncoder()\n",
    "df['fruit_encoded'] = label_encoder.fit_transform(df['fruit'])\n"
   ]
  },
  {
   "cell_type": "code",
   "execution_count": 12,
   "id": "46c86391",
   "metadata": {},
   "outputs": [],
   "source": [
    "X = df[['weight', 'color(1=Red,2=Yellow,3=Orange)']]\n",
    "y = df['fruit_encoded']\n",
    "\n",
    "X_train, X_test, y_train, y_test = train_test_split(X, y, test_size=0.2, random_state=42)\n"
   ]
  },
  {
   "cell_type": "code",
   "execution_count": 13,
   "id": "0f1eca0a",
   "metadata": {},
   "outputs": [
    {
     "data": {
      "text/plain": [
       "RandomForestClassifier(random_state=42)"
      ]
     },
     "execution_count": 13,
     "metadata": {},
     "output_type": "execute_result"
    }
   ],
   "source": [
    "# Create the model\n",
    "model = RandomForestClassifier(random_state=42)\n",
    "\n",
    "# Train the model on the training data\n",
    "model.fit(X_train, y_train)\n"
   ]
  },
  {
   "cell_type": "code",
   "execution_count": 14,
   "id": "a8834c35",
   "metadata": {},
   "outputs": [
    {
     "name": "stdout",
     "output_type": "stream",
     "text": [
      "Accuracy: 1.00\n"
     ]
    }
   ],
   "source": [
    "y_pred = model.predict(X_test)\n",
    "\n",
    "# Calculate accuracy\n",
    "accuracy = accuracy_score(y_test, y_pred)\n",
    "print(f'Accuracy: {accuracy:.2f}')\n"
   ]
  },
  {
   "cell_type": "markdown",
   "id": "d750767b",
   "metadata": {},
   "source": [
    "# 3. "
   ]
  },
  {
   "cell_type": "code",
   "execution_count": 1,
   "id": "47ab40a2",
   "metadata": {},
   "outputs": [],
   "source": [
    "import pandas as pd\n",
    "import matplotlib.pyplot as plt\n",
    "from sklearn.cluster import KMeans\n",
    "\n",
    "# Create a DataFrame with age and income columns\n",
    "data = {\n",
    "    'age': [22, 24, 30, 20, 25, 28, 35, 40, 50, 60],\n",
    "    'income(in $1000)': [20, 22, 25, 18, 35,40, 60, 55, 80,85]\n",
    "}\n",
    "\n",
    "df = pd.DataFrame(data)\n"
   ]
  },
  {
   "cell_type": "code",
   "execution_count": 2,
   "id": "9ab84f57",
   "metadata": {},
   "outputs": [],
   "source": [
    "kmeans = KMeans(n_clusters=3, random_state=42)\n",
    "\n",
    "# Fit K-Means clustering to the data\n",
    "df['cluster'] = kmeans.fit_predict(df)\n"
   ]
  },
  {
   "cell_type": "code",
   "execution_count": 4,
   "id": "b1426a73",
   "metadata": {},
   "outputs": [
    {
     "data": {
      "image/png": "[encoded data removed]",
      "text/plain": [
       "<Figure size 800x600 with 1 Axes>"
      ]
     },
     "metadata": {},
     "output_type": "display_data"
    }
   ],
   "source": [
    "# Create scatter plot\n",
    "plt.figure(figsize=(8, 6))\n",
    "\n",
    "colors = ['red', 'blue', 'green']\n",
    "for i, color in enumerate(colors):\n",
    "    cluster_data = df[df['cluster'] == i]\n",
    "    plt.scatter(cluster_data['age'], cluster_data['income(in $1000)'], c=color, label=f'Cluster {i + 1}')\n",
    "\n",
    "# Plot cluster centers\n",
    "cluster_centers = kmeans.cluster_centers_\n",
    "plt.scatter(cluster_centers[:, 0], cluster_centers[:, 1], c='black', marker='x', s=100, label='Cluster Centers')\n",
    "\n",
    "plt.title('K-Means Clustering')\n",
    "plt.xlabel('Age')\n",
    "plt.ylabel('income(in $1000)')\n",
    "plt.legend()\n",
    "plt.show()\n"
   ]
  },
  {
   "cell_type": "markdown",
   "id": "4a367b68",
   "metadata": {},
   "source": [
    "# 4. "
   ]
  },
  {
   "cell_type": "code",
   "execution_count": 15,
   "id": "b5e03efa",
   "metadata": {},
   "outputs": [],
   "source": [
    "import pandas as pd\n",
    "from sklearn.model_selection import train_test_split\n",
    "from sklearn.linear_model import LinearRegression\n",
    "from sklearn.metrics import mean_squared_error, r2_score\n",
    "\n",
    "# Create a DataFrame with bedrooms, square footage, and price columns\n",
    "data = {\n",
    "    'bedrooms': [2, 3, 2, 4, 3,3, 4, 2, 5, 4],\n",
    "    'square_footage': [1200, 1500, 1300, 2000, 1800, 1600, 2200, 1100, 2500, 2100],\n",
    "    'price(in $1000)': [150, 200, 180, 250, 220, 280, 160000, 140, 320, 290]\n",
    "}\n",
    "\n",
    "df = pd.DataFrame(data)\n"
   ]
  },
  {
   "cell_type": "code",
   "execution_count": 16,
   "id": "4247a892",
   "metadata": {},
   "outputs": [],
   "source": [
    "X = df[['bedrooms', 'square_footage']]\n",
    "y = df['price(in $1000)']\n",
    "\n",
    "X_train, X_test, y_train, y_test = train_test_split(X, y, test_size=0.2, random_state=42)\n"
   ]
  },
  {
   "cell_type": "code",
   "execution_count": 17,
   "id": "a365a604",
   "metadata": {},
   "outputs": [
    {
     "data": {
      "text/plain": [
       "LinearRegression()"
      ]
     },
     "execution_count": 17,
     "metadata": {},
     "output_type": "execute_result"
    }
   ],
   "source": [
    "# Create the model\n",
    "model = LinearRegression()\n",
    "\n",
    "# Train the model on the training data\n",
    "model.fit(X_train, y_train)\n"
   ]
  },
  {
   "cell_type": "code",
   "execution_count": 18,
   "id": "40b0c6e4",
   "metadata": {},
   "outputs": [
    {
     "name": "stdout",
     "output_type": "stream",
     "text": [
      "Mean Squared Error: 1893710817.22\n",
      "R-squared (Coefficient of Determination): -526029.78\n"
     ]
    }
   ],
   "source": [
    "y_pred = model.predict(X_test)\n",
    "\n",
    "# Calculate mean squared error and R-squared (coefficient of determination)\n",
    "mse = mean_squared_error(y_test, y_pred)\n",
    "r2 = r2_score(y_test, y_pred)\n",
    "\n",
    "print(f'Mean Squared Error: {mse:.2f}')\n",
    "print(f'R-squared (Coefficient of Determination): {r2:.2f}')\n"
   ]
  },
  {
   "cell_type": "markdown",
   "id": "d7bde08b",
   "metadata": {},
   "source": [
    "# 6."
   ]
  },
  {
   "cell_type": "code",
   "execution_count": 19,
   "id": "1c6cbf92",
   "metadata": {},
   "outputs": [],
   "source": [
    "import pandas as pd\n",
    "from sklearn.model_selection import train_test_split\n",
    "from sklearn.linear_model import LinearRegression\n",
    "from sklearn.metrics import mean_squared_error, r2_score\n",
    "\n",
    "# Create a DataFrame with date and stock price columns\n",
    "data = {\n",
    "    'date': ['2023-01-01', '2023-01-02', '2023-01-03', '2023-01-04', '2023-01-05'],\n",
    "    'stock price': [100, 105, 110, 108, 115]\n",
    "}\n",
    "\n",
    "df = pd.DataFrame(data)\n",
    "\n",
    "# Convert the 'date' column to datetime\n",
    "df['date'] = pd.to_datetime(df['date'])\n"
   ]
  },
  {
   "cell_type": "code",
   "execution_count": 20,
   "id": "03646786",
   "metadata": {},
   "outputs": [],
   "source": [
    "train_size = int(0.8 * len(df))\n",
    "train_data = df[:train_size]\n",
    "test_data = df[train_size:]\n"
   ]
  },
  {
   "cell_type": "code",
   "execution_count": 21,
   "id": "9bb3e746",
   "metadata": {},
   "outputs": [
    {
     "data": {
      "text/plain": [
       "LinearRegression()"
      ]
     },
     "execution_count": 21,
     "metadata": {},
     "output_type": "execute_result"
    }
   ],
   "source": [
    "X_train = pd.DataFrame({'days': range(1, len(train_data) + 1)})\n",
    "y_train = train_data['stock price']\n",
    "\n",
    "X_test = pd.DataFrame({'days': range(len(train_data) + 1, len(train_data) + len(test_data) + 1)})\n",
    "y_test = test_data['stock price']\n",
    "\n",
    "model = LinearRegression()\n",
    "model.fit(X_train, y_train)\n"
   ]
  },
  {
   "cell_type": "code",
   "execution_count": 22,
   "id": "5984951d",
   "metadata": {},
   "outputs": [
    {
     "name": "stdout",
     "output_type": "stream",
     "text": [
      "Mean Squared Error: 4.00\n",
      "R-squared (Coefficient of Determination): nan\n"
     ]
    },
    {
     "name": "stderr",
     "output_type": "stream",
     "text": [
      "C:\\ProgramData\\Anaconda3\\lib\\site-packages\\sklearn\\metrics\\_regression.py:796: UndefinedMetricWarning: R^2 score is not well-defined with less than two samples.\n",
      "  warnings.warn(msg, UndefinedMetricWarning)\n"
     ]
    }
   ],
   "source": [
    "y_pred = model.predict(X_test)\n",
    "\n",
    "mse = mean_squared_error(y_test, y_pred)\n",
    "r2 = r2_score(y_test, y_pred)\n",
    "\n",
    "print(f'Mean Squared Error: {mse:.2f}')\n",
    "print(f'R-squared (Coefficient of Determination): {r2:.2f}')\n"
   ]
  },
  {
   "cell_type": "markdown",
   "id": "74373972",
   "metadata": {},
   "source": [
    "#  Pandas and Numpy"
   ]
  },
  {
   "cell_type": "markdown",
   "id": "2723ec56",
   "metadata": {},
   "source": [
    "# 1."
   ]
  },
  {
   "cell_type": "code",
   "execution_count": 26,
   "id": "1548efc6",
   "metadata": {},
   "outputs": [
    {
     "name": "stdout",
     "output_type": "stream",
     "text": [
      "      Name  Age\n",
      "0    Alice   25\n",
      "1      Bob   30\n",
      "2  Charlie   22\n"
     ]
    },
    {
     "data": {
      "text/plain": [
       "25.666666666666668"
      ]
     },
     "execution_count": 26,
     "metadata": {},
     "output_type": "execute_result"
    }
   ],
   "source": [
    "#import pandas library\n",
    "import pandas as pd\n",
    "\n",
    "#create a dictionary with key Name and age\n",
    "dict_ = {'Name':('Alice','Bob','Charlie'),'Age':(25,30,22)}\n",
    "\n",
    "#convert dictionary to dataframe\n",
    "df = pd.DataFrame(dict_)\n",
    "\n",
    "#print data frame\n",
    "print(df)\n",
    "\n",
    "#Test case 1 : \n",
    "# Age of Alice\n",
    "df[df['Name']=='Alice'].Age\n",
    "\n",
    "#2: \n",
    "# average of age\n",
    "df['Age'].mean()\n",
    "\n"
   ]
  },
  {
   "cell_type": "markdown",
   "id": "8c01398b",
   "metadata": {},
   "source": [
    "# 2."
   ]
  },
  {
   "cell_type": "code",
   "execution_count": 27,
   "id": "7172a005",
   "metadata": {},
   "outputs": [
    {
     "data": {
      "text/plain": [
       "15338759"
      ]
     },
     "execution_count": 27,
     "metadata": {},
     "output_type": "execute_result"
    }
   ],
   "source": [
    "import pandas as pd\n",
    "dic = {'City':('New York','Los Angeles','Chicago'),\n",
    "       'Population':(8623000,3999759,2716000)}\n",
    "df = pd.DataFrame(dic)\n",
    "\n",
    "#Test Case: 1\n",
    "df[df['Population']==df['Population'].max()].City\n",
    "\n",
    "#2:\n",
    "total_pop = df['Population'].sum()\n",
    "total_pop"
   ]
  },
  {
   "cell_type": "markdown",
   "id": "ec189b2e",
   "metadata": {},
   "source": [
    "# 3."
   ]
  },
  {
   "cell_type": "code",
   "execution_count": 28,
   "id": "a6b67dfc",
   "metadata": {},
   "outputs": [
    {
     "data": {
      "text/plain": [
       "0.4668453687199536"
      ]
     },
     "execution_count": 28,
     "metadata": {},
     "output_type": "execute_result"
    }
   ],
   "source": [
    "import numpy as np\n",
    "\n",
    "arr = np.random.random(20)\n",
    "\n",
    "arr\n",
    "\n",
    "#Test case: 1\n",
    "Average = np.mean(arr)\n",
    "Average"
   ]
  },
  {
   "cell_type": "markdown",
   "id": "8170a088",
   "metadata": {},
   "source": [
    "# 4."
   ]
  },
  {
   "cell_type": "code",
   "execution_count": 30,
   "id": "af51463a",
   "metadata": {},
   "outputs": [
    {
     "data": {
      "text/plain": [
       "1450"
      ]
     },
     "execution_count": 30,
     "metadata": {},
     "output_type": "execute_result"
    }
   ],
   "source": [
    "import pandas as pd\n",
    "\n",
    "dic = {'ProductID':(101,102,103),\n",
    "       'ProductName':('Laptop','Smartphone','Tablet'),\n",
    "      \"Price\":(800,400,250)}\n",
    "\n",
    "df = pd.DataFrame(dic)\n",
    "\n",
    "df\n",
    "\n",
    "#Test case: 1\n",
    "df[df['Price']==df['Price'].max()].ProductName\n",
    "\n",
    "#2:\n",
    "total_cost = df['Price'].sum()\n",
    "total_cost"
   ]
  },
  {
   "cell_type": "markdown",
   "id": "1a87d0c6",
   "metadata": {},
   "source": [
    "# 5."
   ]
  },
  {
   "cell_type": "code",
   "execution_count": 31,
   "id": "a9d02d28",
   "metadata": {},
   "outputs": [
    {
     "data": {
      "text/plain": [
       "991.7"
      ]
     },
     "execution_count": 31,
     "metadata": {},
     "output_type": "execute_result"
    }
   ],
   "source": [
    "import pandas as pd\n",
    "dic = {'City':('London','paris','Berlin'),\n",
    "      'Population':(8787892,2206488,3644826),\n",
    "      'Area':(607,40.7,344)}\n",
    "\n",
    "df = pd.DataFrame(dic)\n",
    "\n",
    "df\n",
    "\n",
    "# population density\n",
    "df['Pop_density'] = df['Population']/df.Area\n",
    "\n",
    "#Test case: 1\n",
    "df[df['Pop_density']==df['Pop_density'].max()].City\n",
    "\n",
    "#2: \n",
    "total_area = df['Area'].sum()\n",
    "\n",
    "total_area"
   ]
  },
  {
   "cell_type": "code",
   "execution_count": null,
   "id": "5a5e2d6f",
   "metadata": {},
   "outputs": [],
   "source": []
  }
 ],
 "metadata": {
  "kernelspec": {
   "display_name": "Python 3 (ipykernel)",
   "language": "python",
   "name": "python3"
  },
  "language_info": {
   "codemirror_mode": {
    "name": "ipython",
    "version": 3
   },
   "file_extension": ".py",
   "mimetype": "text/x-python",
   "name": "python",
   "nbconvert_exporter": "python",
   "pygments_lexer": "ipython3",
   "version": "3.9.13"
  }
 },
 "nbformat": 4,
 "nbformat_minor": 5
}
